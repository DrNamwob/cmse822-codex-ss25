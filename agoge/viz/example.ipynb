{
 "cells": [
  {
   "cell_type": "code",
   "execution_count": 1,
   "metadata": {},
   "outputs": [
    {
     "name": "stderr",
     "output_type": "stream",
     "text": [
      "yt : [INFO     ] 2025-01-23 17:16:36,910 Parameters: current_time              = 0.0\n",
      "yt : [INFO     ] 2025-01-23 17:16:36,910 Parameters: domain_dimensions         = [64  1  1]\n",
      "yt : [INFO     ] 2025-01-23 17:16:36,911 Parameters: domain_left_edge          = [0. 0. 0.]\n",
      "yt : [INFO     ] 2025-01-23 17:16:36,912 Parameters: domain_right_edge         = [1. 1. 1.]\n",
      "yt : [INFO     ] 2025-01-23 17:16:36,912 Parameters: cosmological_simulation   = 0\n"
     ]
    },
    {
     "name": "stdout",
     "output_type": "stream",
     "text": [
      "UniformGridData\n"
     ]
    },
    {
     "name": "stderr",
     "output_type": "stream",
     "text": [
      "yt : [INFO     ] 2025-01-23 17:16:40,195 xlim = 0.000000 1.000000\n",
      "yt : [INFO     ] 2025-01-23 17:16:40,198 ylim = 0.000000 1.000000\n",
      "yt : [INFO     ] 2025-01-23 17:16:40,199 xlim = 0.000000 1.000000\n",
      "yt : [INFO     ] 2025-01-23 17:16:40,200 ylim = 0.000000 1.000000\n",
      "yt : [INFO     ] 2025-01-23 17:16:40,201 Making a fixed resolution buffer of (('stream', 'rho')) 800 by 800\n",
      "yt : [INFO     ] 2025-01-23 17:16:41,566 Saving plot output_rho_slice_z.png\n",
      "yt : [INFO     ] 2025-01-23 17:16:42,002 Projection completed\n",
      "yt : [INFO     ] 2025-01-23 17:16:42,003 xlim = 0.000000 1.000000\n",
      "yt : [INFO     ] 2025-01-23 17:16:42,003 ylim = 0.000000 1.000000\n",
      "yt : [INFO     ] 2025-01-23 17:16:42,004 xlim = 0.000000 1.000000\n",
      "yt : [INFO     ] 2025-01-23 17:16:42,005 ylim = 0.000000 1.000000\n",
      "yt : [INFO     ] 2025-01-23 17:16:42,005 Making a fixed resolution buffer of (('stream', 'E')) 800 by 800\n",
      "yt : [INFO     ] 2025-01-23 17:16:42,188 Saving plot output_E_projection_z.png\n",
      "yt : [INFO     ] 2025-01-23 17:16:42,303 xlim = 0.000000 1.000000\n",
      "yt : [INFO     ] 2025-01-23 17:16:42,304 ylim = 0.000000 1.000000\n",
      "yt : [INFO     ] 2025-01-23 17:16:42,306 xlim = 0.000000 1.000000\n",
      "yt : [INFO     ] 2025-01-23 17:16:42,306 ylim = 0.000000 1.000000\n",
      "yt : [INFO     ] 2025-01-23 17:16:42,307 Making a fixed resolution buffer of (('gas', 'velocity_x')) 800 by 800\n",
      "yt : [INFO     ] 2025-01-23 17:16:42,339 Making a fixed resolution buffer of (('gas', 'velocity_y')) 800 by 800\n",
      "yt : [INFO     ] 2025-01-23 17:16:42,375 Making a fixed resolution buffer of (('gas', 'velocity_z')) 800 by 800\n",
      "yt : [INFO     ] 2025-01-23 17:16:42,783 Saving plot output_velocity_slice_z.png\n",
      "/usr/local/lib/python3.13/site-packages/matplotlib/quiver.py:695: RuntimeWarning: divide by zero encountered in scalar divide\n",
      "  length = a * (widthu_per_lenu / (self.scale * self.width))\n",
      "/usr/local/lib/python3.13/site-packages/matplotlib/quiver.py:695: RuntimeWarning: invalid value encountered in multiply\n",
      "  length = a * (widthu_per_lenu / (self.scale * self.width))\n",
      "/usr/local/lib/python3.13/site-packages/matplotlib/quiver.py:695: RuntimeWarning: divide by zero encountered in scalar divide\n",
      "  length = a * (widthu_per_lenu / (self.scale * self.width))\n",
      "/usr/local/lib/python3.13/site-packages/matplotlib/quiver.py:695: RuntimeWarning: invalid value encountered in multiply\n",
      "  length = a * (widthu_per_lenu / (self.scale * self.width))\n"
     ]
    },
    {
     "name": "stdout",
     "output_type": "stream",
     "text": [
      "Visualizations saved successfully.\n"
     ]
    },
    {
     "name": "stderr",
     "output_type": "stream",
     "text": [
      "/usr/local/lib/python3.13/site-packages/matplotlib/quiver.py:695: RuntimeWarning: divide by zero encountered in scalar divide\n",
      "  length = a * (widthu_per_lenu / (self.scale * self.width))\n",
      "/usr/local/lib/python3.13/site-packages/matplotlib/quiver.py:695: RuntimeWarning: invalid value encountered in multiply\n",
      "  length = a * (widthu_per_lenu / (self.scale * self.width))\n"
     ]
    }
   ],
   "source": [
    "from agoge_yt import *\n",
    " \n",
    "hdf5_filename = \"../agoge_final.h5\"  # Replace with your actual HDF5 file path\n",
    "visualize_agoge_data(hdf5_filename)\n"
   ]
  },
  {
   "cell_type": "code",
   "execution_count": null,
   "metadata": {},
   "outputs": [],
   "source": []
  }
 ],
 "metadata": {
  "kernelspec": {
   "display_name": "Python 3",
   "language": "python",
   "name": "python3"
  },
  "language_info": {
   "codemirror_mode": {
    "name": "ipython",
    "version": 3
   },
   "file_extension": ".py",
   "mimetype": "text/x-python",
   "name": "python",
   "nbconvert_exporter": "python",
   "pygments_lexer": "ipython3",
   "version": "3.13.1"
  }
 },
 "nbformat": 4,
 "nbformat_minor": 2
}
