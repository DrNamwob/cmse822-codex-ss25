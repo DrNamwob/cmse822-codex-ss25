{
 "cells": [
  {
   "cell_type": "code",
   "execution_count": null,
   "metadata": {},
   "outputs": [],
   "source": [
    "from agoge_yt import *\n",
    " \n",
    "hdf5_filename = \"../agoge_final.h5\"  # Replace with your actual HDF5 file path\n",
    "visualize_agoge_data(hdf5_filename)\n"
   ]
  },
  {
   "cell_type": "code",
   "execution_count": 8,
   "metadata": {},
   "outputs": [
    {
     "ename": "",
     "evalue": "",
     "output_type": "error",
     "traceback": [
      "\u001b[1;31mFailed to start the Kernel. \n",
      "\u001b[1;31mCommand \"python setup.py egg_info\" failed with error code 1 in /tmp/pip-build-dfy5f5bz/argon2-cffi-bindings/. \n",
      "\u001b[1;31mView Jupyter <a href='command:jupyter.viewOutput'>log</a> for further details."
     ]
    }
   ],
   "source": [
    "import agoge_viz as av\n",
    "\n",
    "# 1) read data\n",
    "\n",
    "data = av.read_agoge_hdf5(\"../agoge_init.h5\")\n",
    "\n",
    "# 2) line plot\n",
    "av.plot_line(data, field=\"rho\", axis=\"x\", index_j=31, index_k=31)\n",
    "\n",
    "# 3) slice plot\n",
    "# av.plot_slice(data, field=\"phi\", plane=\"z\", plane_index=10)\n"
   ]
  },
  {
   "cell_type": "code",
   "execution_count": null,
   "metadata": {},
   "outputs": [],
   "source": []
  }
 ],
 "metadata": {
  "kernelspec": {
   "display_name": "Python 3",
   "language": "python",
   "name": "python3"
  },
  "language_info": {
   "codemirror_mode": {
    "name": "ipython",
    "version": 3
   },
   "file_extension": ".py",
   "mimetype": "text/x-python",
   "name": "python",
   "nbconvert_exporter": "python",
   "pygments_lexer": "ipython3",
   "version": "3.6.8"
  }
 },
 "nbformat": 4,
 "nbformat_minor": 2
}
